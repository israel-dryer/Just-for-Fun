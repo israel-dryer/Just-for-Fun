{
 "cells": [
  {
   "cell_type": "markdown",
   "metadata": {},
   "source": [
    "# Mad Libs | Random Story Generator\n",
    "Randomly select words to create a unique Mad-Libs story"
   ]
  },
  {
   "cell_type": "code",
   "execution_count": 1,
   "metadata": {},
   "outputs": [],
   "source": [
    "from random import randint\n",
    "import copy"
   ]
  },
  {
   "cell_type": "markdown",
   "metadata": {},
   "source": [
    "Create a dictionary of words of the type you will use in the story"
   ]
  },
  {
   "cell_type": "code",
   "execution_count": 2,
   "metadata": {},
   "outputs": [],
   "source": [
    "word_dict = {\n",
    "    'adjective':['greedy','abrasive','grubby','groovy','rich','harsh','tasty','slow'], \n",
    "    'city name':['Chicago','New York','Charlotte','Indianapolis','Louisville','Denver'], \n",
    "    'noun':['people','map','music','dog','hamster','ball','hotdog','salad'], \n",
    "    'action verb':['run','fall','crawl','scurry','cry','watch','swim','jump','bounce'], \n",
    "    'sports noun':['ball','mit','puck','uniform','helmet','scoreboard','player']\n",
    "}"
   ]
  },
  {
   "cell_type": "markdown",
   "metadata": {},
   "source": [
    "Select a story and insert placeholders for the words you want to randomly select"
   ]
  },
  {
   "cell_type": "code",
   "execution_count": 3,
   "metadata": {},
   "outputs": [],
   "source": [
    "story = (\n",
    "    \"One day my {} friend and I decided to go to the {} game in {}. \"+\n",
    "    \"We really wanted to see the {} play the {}. So, we {} our {} \"+ \n",
    "    \"down to the {} and bought some {}s. We got into the game and \"+\n",
    "    \"it was a lot of fun. We ate some {} {} and drank some {} {}. \"+\n",
    "    \"We had a great time! We plan to go again next year!\"\n",
    ")"
   ]
  },
  {
   "cell_type": "markdown",
   "metadata": {},
   "source": [
    "Create a function that will randomly select a word from the `word_dict` by type of word"
   ]
  },
  {
   "cell_type": "code",
   "execution_count": 4,
   "metadata": {},
   "outputs": [],
   "source": [
    "def get_word(type, local_dict):\n",
    "    ''' get a random word from the word_dict based on word type '''\n",
    "    words = local_dict[type]\n",
    "    cnt = len(words)-1\n",
    "    index = randint(0, cnt)\n",
    "    return local_dict[type].pop(index)"
   ]
  },
  {
   "cell_type": "markdown",
   "metadata": {},
   "source": [
    "Create a function that will insert a random word of the appropriate type into the story"
   ]
  },
  {
   "cell_type": "code",
   "execution_count": 5,
   "metadata": {},
   "outputs": [],
   "source": [
    "def create_story():\n",
    "    ''' create a random story from word dict '''\n",
    "    # create a local copy of the dict so that we can pop words as used\n",
    "    local_dict = copy.deepcopy(word_dict)\n",
    "    return story.format(\n",
    "        get_word('adjective', local_dict), \n",
    "        get_word('sports noun', local_dict),\n",
    "        get_word('city name', local_dict),\n",
    "        get_word('noun', local_dict),\n",
    "        get_word('noun', local_dict),\n",
    "        get_word('action verb', local_dict),\n",
    "        get_word('noun', local_dict),\n",
    "        get_word('noun', local_dict),\n",
    "        get_word('noun', local_dict),\n",
    "        get_word('adjective', local_dict),\n",
    "        get_word('noun', local_dict),\n",
    "        get_word('adjective', local_dict),\n",
    "        get_word('noun', local_dict)\n",
    ")"
   ]
  },
  {
   "cell_type": "markdown",
   "metadata": {},
   "source": [
    "Create a few random stories... print, and enjoy!"
   ]
  },
  {
   "cell_type": "code",
   "execution_count": 6,
   "metadata": {},
   "outputs": [],
   "source": [
    "story1 = create_story()"
   ]
  },
  {
   "cell_type": "code",
   "execution_count": 7,
   "metadata": {},
   "outputs": [],
   "source": [
    "story2 = create_story()"
   ]
  },
  {
   "cell_type": "markdown",
   "metadata": {},
   "source": [
    "## Story 1"
   ]
  },
  {
   "cell_type": "code",
   "execution_count": 8,
   "metadata": {},
   "outputs": [
    {
     "name": "stdout",
     "output_type": "stream",
     "text": [
      "One day my tasty friend and I decided to go to the helmet game in Indianapolis. We really wanted to see the salad play the map. So, we bounce our hamster down to the music and bought some balls. We got into the game and it was a lot of fun. We ate some abrasive dog and drank some grubby people. We had a great time! We plan to go again next year!\n"
     ]
    }
   ],
   "source": [
    "print(story1)"
   ]
  },
  {
   "cell_type": "markdown",
   "metadata": {},
   "source": [
    "## Story 2"
   ]
  },
  {
   "cell_type": "code",
   "execution_count": 9,
   "metadata": {},
   "outputs": [
    {
     "name": "stdout",
     "output_type": "stream",
     "text": [
      "One day my rich friend and I decided to go to the scoreboard game in Chicago. We really wanted to see the map play the salad. So, we watch our dog down to the ball and bought some hamsters. We got into the game and it was a lot of fun. We ate some abrasive hotdog and drank some tasty people. We had a great time! We plan to go again next year!\n"
     ]
    }
   ],
   "source": [
    "print(story2)"
   ]
  }
 ],
 "metadata": {
  "kernelspec": {
   "display_name": "Python 3",
   "language": "python",
   "name": "python3"
  },
  "language_info": {
   "codemirror_mode": {
    "name": "ipython",
    "version": 3
   },
   "file_extension": ".py",
   "mimetype": "text/x-python",
   "name": "python",
   "nbconvert_exporter": "python",
   "pygments_lexer": "ipython3",
   "version": "3.7.3"
  }
 },
 "nbformat": 4,
 "nbformat_minor": 2
}
