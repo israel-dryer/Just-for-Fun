{
 "cells": [
  {
   "cell_type": "markdown",
   "metadata": {},
   "source": [
    "# Mad Libs - Random Story Generator"
   ]
  },
  {
   "cell_type": "markdown",
   "metadata": {},
   "source": [
    "A mad libs story generator that randomly selects words from a list by word type."
   ]
  },
  {
   "cell_type": "code",
   "execution_count": 1,
   "metadata": {},
   "outputs": [],
   "source": [
    "from random import randint"
   ]
  },
  {
   "cell_type": "markdown",
   "metadata": {},
   "source": [
    "Function to grab a random word for the story based on word type"
   ]
  },
  {
   "cell_type": "code",
   "execution_count": 2,
   "metadata": {},
   "outputs": [],
   "source": [
    "def get_word(type):\n",
    "    ''' get a random word from the word_dict based on word type '''\n",
    "    words = word_dict[type]\n",
    "    cnt = len(words)-1\n",
    "    return words[randint(0, cnt)]"
   ]
  },
  {
   "cell_type": "markdown",
   "metadata": {},
   "source": [
    "List of words by word type to be used by `get_word` function"
   ]
  },
  {
   "cell_type": "code",
   "execution_count": 3,
   "metadata": {},
   "outputs": [],
   "source": [
    "word_dict = {'adjective':('gray','greedy','absent','absolute','abnormal','abrasive','grubby','groovy','rich','revolting','hardy','harsh','tasty','fast','slow'), \n",
    "             'city name':('Chicago','New York','Charlotte','San Diego','Minneapolis','Indianapolis','Louisville','Denver'), \n",
    "             'noun':('people','history','art','map','health','meat','music','dog','hamster','bucket','car','ball','hotdog','salad'), \n",
    "             'action verb':('run','fall','crawl','scurry','throw','toss','balk','cry','yell','draw','watch','swim','jump','bounce'), \n",
    "             'sports noun':('ball','mit','puck','uniform','helmet','field','stick','umpire','scoreboard','player')}"
   ]
  },
  {
   "cell_type": "markdown",
   "metadata": {},
   "source": [
    "The story... use the f-string format and call the `get_word` function for each relevant word type."
   ]
  },
  {
   "cell_type": "code",
   "execution_count": 4,
   "metadata": {},
   "outputs": [],
   "source": [
    "def create_story():\n",
    "    story = (f\"\"\"\\t\\t \n",
    "        One day my {get_word('adjective')} friend and I decided to go to the {get_word('sports noun')} game in {get_word('city name')}. \n",
    "        We really wanted to see the {get_word('noun')} play the {get_word('noun')}. So, we {get_word('action verb')} our {get_word('noun')} \n",
    "        down to the {get_word('noun')} and bought some {get_word('noun')}'s. We got into the game and it was a lot of fun. We ate some \n",
    "        {get_word('adjective')} {get_word('noun')} and drank some {get_word('adjective')} {get_word('noun')} \n",
    "        We had a great time! We plan to go again next year!\"\"\")\n",
    "    return story"
   ]
  },
  {
   "cell_type": "markdown",
   "metadata": {},
   "source": [
    "Create two random stories; then print and enjoy!"
   ]
  },
  {
   "cell_type": "code",
   "execution_count": 5,
   "metadata": {},
   "outputs": [],
   "source": [
    "story1 = create_story()"
   ]
  },
  {
   "cell_type": "code",
   "execution_count": 6,
   "metadata": {},
   "outputs": [],
   "source": [
    "story2 = create_story()"
   ]
  },
  {
   "cell_type": "code",
   "execution_count": 7,
   "metadata": {},
   "outputs": [
    {
     "name": "stdout",
     "output_type": "stream",
     "text": [
      "\t\t \n",
      "        One day my harsh friend and I decided to go to the uniform game in Louisville. \n",
      "        We really wanted to see the music play the music. So, we fall our salad \n",
      "        down to the salad and bought some ball's. We got into the game and it was a lot of fun. We ate some \n",
      "        groovy hotdog and drank some greedy dog \n",
      "        We had a great time! We plan to go again next year!\n"
     ]
    }
   ],
   "source": [
    "print(story1)"
   ]
  },
  {
   "cell_type": "code",
   "execution_count": 8,
   "metadata": {},
   "outputs": [
    {
     "name": "stdout",
     "output_type": "stream",
     "text": [
      "\t\t \n",
      "        One day my hardy friend and I decided to go to the ball game in New York. \n",
      "        We really wanted to see the salad play the people. So, we toss our hamster \n",
      "        down to the hamster and bought some car's. We got into the game and it was a lot of fun. We ate some \n",
      "        tasty art and drank some absent health \n",
      "        We had a great time! We plan to go again next year!\n"
     ]
    }
   ],
   "source": [
    "print(story2)"
   ]
  }
 ],
 "metadata": {
  "kernelspec": {
   "display_name": "Python 3",
   "language": "python",
   "name": "python3"
  },
  "language_info": {
   "codemirror_mode": {
    "name": "ipython",
    "version": 3
   },
   "file_extension": ".py",
   "mimetype": "text/x-python",
   "name": "python",
   "nbconvert_exporter": "python",
   "pygments_lexer": "ipython3",
   "version": "3.7.3"
  }
 },
 "nbformat": 4,
 "nbformat_minor": 2
}
